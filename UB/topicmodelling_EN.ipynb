{
 "cells": [
  {
   "cell_type": "markdown",
   "metadata": {},
   "source": [
    "## Topicmodelling\n",
    "used codes from: https://towardsdatascience.com/topic-modelling-in-python-with-nltk-and-gensim-4ef03213cd21"
   ]
  },
  {
   "cell_type": "code",
   "execution_count": 1,
   "metadata": {
    "collapsed": true
   },
   "outputs": [],
   "source": [
    "import pandas as pd"
   ]
  },
  {
   "cell_type": "code",
   "execution_count": 2,
   "metadata": {
    "collapsed": true
   },
   "outputs": [],
   "source": [
    "df = pd.read_csv(\"../data/tweets_public.csv\", encoding = \"utf-8\", sep = \",\")"
   ]
  },
  {
   "cell_type": "code",
   "execution_count": 9,
   "metadata": {},
   "outputs": [],
   "source": [
    "import spacy\n",
    "spacy.load('en')\n",
    "from spacy.lang.en import English\n",
    "parser = English()\n",
    "\n",
    "def tokenize(text):\n",
    "    lda_tokens = []\n",
    "    tokens = parser(text)\n",
    "    for token in tokens:\n",
    "        if token.orth_.isspace():\n",
    "            continue\n",
    "        elif token.like_url:\n",
    "            lda_tokens.append('URL')\n",
    "        elif token.orth_.startswith('@'):\n",
    "            lda_tokens.append('SCREEN_NAME')\n",
    "        else:\n",
    "            lda_tokens.append(token.lower_)\n",
    "    return lda_tokens"
   ]
  },
  {
   "cell_type": "code",
   "execution_count": 7,
   "metadata": {},
   "outputs": [
    {
     "name": "stdout",
     "output_type": "stream",
     "text": [
      "[nltk_data] Downloading package wordnet to /home/borbota/nltk_data...\n",
      "[nltk_data]   Package wordnet is already up-to-date!\n"
     ]
    }
   ],
   "source": [
    "import nltk\n",
    "nltk.download('wordnet')\n",
    "\n",
    "from nltk.corpus import wordnet as wn\n",
    "def get_lemma(word):\n",
    "    lemma = wn.morphy(word)\n",
    "    if lemma is None:\n",
    "        return word\n",
    "    else:\n",
    "        return lemma\n",
    "    \n",
    "from nltk.stem.wordnet import WordNetLemmatizer\n",
    "def get_lemma2(word):\n",
    "    return WordNetLemmatizer().lemmatize(word)"
   ]
  },
  {
   "cell_type": "code",
   "execution_count": 10,
   "metadata": {},
   "outputs": [
    {
     "name": "stdout",
     "output_type": "stream",
     "text": [
      "[nltk_data] Downloading package stopwords to\n",
      "[nltk_data]     /home/borbota/nltk_data...\n",
      "[nltk_data]   Unzipping corpora/stopwords.zip.\n"
     ]
    }
   ],
   "source": [
    "nltk.download('stopwords')\n",
    "en_stop = set(nltk.corpus.stopwords.words('english'))"
   ]
  },
  {
   "cell_type": "code",
   "execution_count": 11,
   "metadata": {
    "collapsed": true
   },
   "outputs": [],
   "source": [
    "def prepare_text_for_lda(text):\n",
    "    tokens = tokenize(text)\n",
    "    tokens = [token for token in tokens if len(token) > 4]\n",
    "    tokens = [token for token in tokens if token not in en_stop]\n",
    "    tokens = [get_lemma(token) for token in tokens]\n",
    "    return tokens"
   ]
  },
  {
   "cell_type": "code",
   "execution_count": 12,
   "metadata": {},
   "outputs": [
    {
     "name": "stdout",
     "output_type": "stream",
     "text": [
      "['SCREEN_NAME', 'learn', 'flight', 'cancel', \"flightled.can't\", 'phone', 'option', 'assistance', 'online', 'suggestion']\n",
      "['SCREEN_NAME', 'price']\n",
      "['SCREEN_NAME', 'flight', 'worst', 'experience', 'flight', 'regret', 'opening', 'mile', 'hotterandlongerthanhell']\n",
      "['SCREEN_NAME', 'thank']\n",
      "['SCREEN_NAME', 'complete', 'respect', 'call', 'daughter']\n",
      "['SCREEN_NAME', 'understand', 'still', 'reservation', 'online']\n",
      "['SCREEN_NAME', 'hours', 'already']\n",
      "['SCREEN_NAME', 'earlier', 'flight', 'sap-&gt;mia', '03.03', 'currently', 'book', 'flight']\n",
      "['SCREEN_NAME', 'course', 'airport', 'looking', 'claim', 'still']\n",
      "['.@americanair', 'phone', 'reservation', 'system', 'automatically', 'disconnect']\n",
      "['SCREEN_NAME', 'turn', 'thanks', 'useless', 'centre', 'useless', 'website']\n",
      "['SCREEN_NAME', 'today', 'issue', 'clear', 'beautifully', 'thank', 'check']\n",
      "['SCREEN_NAME', 'final', 'connection', 'leave', 'npbhd0']\n",
      "['SCREEN_NAME', 'thnkx', 'charge', 'neveragain']\n",
      "['SCREEN_NAME', 'flight', 'tomorrow', 'cancel', 'flightled', 'notification', 'times', 'rebook', 'another', 'airline']\n",
      "['SCREEN_NAME', 'chicago', 'great']\n",
      "['SCREEN_NAME', 'want', 'route', 'plan', 'newark', 'flying']\n",
      "['SCREEN_NAME', 'phone', 'customer', 'service', 'figure', 'awesome', 'service']\n",
      "['SCREEN_NAME', 'sitting', 'least', 'phone', 'queue', 'hope', 'things', 'rebooked', 'least', 'plastic', 'wings', 'tears']\n",
      "['SCREEN_NAME', 'SCREEN_NAME', 'worst', 'experience', 'flying', 'delay', 'cancel', 'flightlations', 'update', 'wasting']\n",
      "['SCREEN_NAME', 'flight', 'cancel', 'flightled', 'denver', 'service', 'agent', 'offer', 'denver', 'atlanta']\n",
      "['SCREEN_NAME', 'worst', 'airline', 'fly', 'treat', 'garbage', 'today']\n",
      "['SCREEN_NAME', 'greeting']\n",
      "['SCREEN_NAME', 'thank']\n",
      "['SCREEN_NAME', 'book', 'flight', 'denver', 'specific', 'meeting', 'fail', 'cause', 'weather']\n",
      "['SCREEN_NAME', 'working', 'coach', 'thing', 'land', 'ahead', 'schedule']\n",
      "['SCREEN_NAME', 'finally', 'plane', 'nashville', 'lovesouthwestair']\n",
      "['SCREEN_NAME', 'could', 'want', 'would', 'internet', 'reservation', 'chrome', 'several', 'computer']\n",
      "['SCREEN_NAME', 'bring', 'shuttle', 'double', 'check', 'still', 'concourse']\n",
      "['SCREEN_NAME', 'update', 'flight']\n",
      "['SCREEN_NAME', 'throne']\n",
      "['SCREEN_NAME', 'vega', 'weather']\n",
      "['SCREEN_NAME', 'try', 'anyone', 'phone', 'cancel', 'flight', 'please', 'denver']\n",
      "['SCREEN_NAME', 'using', 'breavement', 'program', 'funeral']\n",
      "['SCREEN_NAME', 'flight', 'cancel', 'flight', 'rebook']\n",
      "['SCREEN_NAME', 'child', 'birthdate']\n",
      "['SCREEN_NAME', 'something', 'recent', 'flight', 'today', 'contact', 'retrieve', 'please', 'thanks']\n",
      "['SCREEN_NAME', 'teach', 'agent', 'learn', 'overhead', 'space', 'check']\n",
      "['SCREEN_NAME', 'appreciate', 'problem', 'flying', 'pretty', 'aggravate']\n",
      "['SCREEN_NAME', 'try', 'calling', 'times', 'getting', 'someone', 'please']\n",
      "['SCREEN_NAME', 'still', 'waiting', 'waiting', 'freezing', 'weather', 'waiting']\n",
      "['SCREEN_NAME', 'actually', 'care', 'would', 'thing', 'sound', 'lousy', 'service']\n",
      "['SCREEN_NAME', 'ignore', 'purpose', 'enough', 'automate', 'system']\n",
      "['SCREEN_NAME', 'delay', 'puerto', 'delay', 'disgraceful']\n",
      "['SCREEN_NAME', 'cancel', 'flightled', 'ticket', 'taking', 'month', 'refund', 'still', 'waiting']\n",
      "['SCREEN_NAME', 'recent', 'services', 'aweful', 'disappoint', 'never']\n",
      "['SCREEN_NAME', 'customerservice', 'flyer', 'switching', 'airline', 'frustrate']\n",
      "['SCREEN_NAME', 'costumer', 'service', 'today', 'providence', 'airport', 'suck', 'recommend', 'airline', 'learn', 'check', 'weather', 'honest']\n",
      "['SCREEN_NAME', 'winner', 'destinationdragons']\n",
      "['SCREEN_NAME', 'spring', 'technically', 'maybe', 'bump', 'class', 'friday']\n",
      "['SCREEN_NAME', 'SCREEN_NAME', 'cover', 'service', 'waiting']\n",
      "['SCREEN_NAME', 'gain', 'altitude', 'skywest', 'turbulence', 'investor', 'business', 'daily']\n",
      "['SCREEN_NAME', 'another', 'awesome', 'telephone', 'experience', 'SCREEN_NAME', 'thank', 'greatcustomerservice']\n",
      "['SCREEN_NAME', 'volume']\n",
      "['SCREEN_NAME', 'frequent', 'flyer', 'number', 'website']\n",
      "['SCREEN_NAME', 'thank', 'flying', 'diego']\n",
      "['SCREEN_NAME', 'pilot', 'ua475', 'land', 'plane', 'gently', 'place', 'whip', 'cream', 'smooth', 'landing']\n",
      "['SCREEN_NAME', 'airline', 'suck', 'customer', 'service', 'suck', 'courtesy', 'incompetent', 'passenger', 'matter-', 'though']\n",
      "['SCREEN_NAME', 'always', 'hope', 'improvement']\n",
      "['SCREEN_NAME', 'provide', 'voucher', 'overnight', 'floor', 'ohare', 'gross', 'helpmeplease', 'anyonethere']\n",
      "['SCREEN_NAME', 'report', 'system', 'failure', 'delay', 'flight', 'currently', 'sitting', 'tarmac']\n",
      "['SCREEN_NAME', 'shoulda', 'SCREEN_NAME', 'ticket', 'instead', 'driving', 'flying']\n",
      "['SCREEN_NAME', 'rndtrp', 'SCREEN_NAME', 'SCREEN_NAME', 'try', 'travel', 'reservation', 'vega', 'flight']\n",
      "['SCREEN_NAME', 'customer', 'service', 'display', 'weekend', 'storm', 'stick', 'tarmac', 'hours', 'answer']\n",
      "['SCREEN_NAME', 'flight', 'always', 'delay', 'unfortunately']\n",
      "['SCREEN_NAME', 'destination', 'claim', 'ticket', 'status', 'location']\n",
      "['SCREEN_NAME', 'finally', 'cancel', 'flight', 'ticket', 'stick', 'SCREEN_NAME', 'SCREEN_NAME', 'allow', 'online', 'cancel', 'flight', 'refund']\n",
      "['SCREEN_NAME', 'referral', 'program', 'milageplus', 'explorer']\n",
      "['SCREEN_NAME', 'bring', 'photo', 'birth', 'certificate', 'flight', 'uncomfortable', 'traveling', 'thing']\n",
      "['SCREEN_NAME', 'learn', 'treat', 'people', 'respect', 'little', 'dignity']\n",
      "['SCREEN_NAME', 'flying', 'denver', 'tomorrow', 'rebook']\n",
      "['SCREEN_NAME', 'would', 'add', 'point']\n",
      "['SCREEN_NAME', 'try', 'merge', 'flyer', 'accts', 'getting', 'error', 'message', 'machine', 'calling', 'provide']\n",
      "['SCREEN_NAME', 'diego', 'delay', 'jfk!even', 'jetblue', '50.000', 'travel', 'mile', 'still', 'nothing']\n",
      "['SCREEN_NAME', 'kid', 'think', 'call', 'dozens', 'times', 'tell', 'hang']\n",
      "['SCREEN_NAME', 'follow', 'thanks']\n",
      "['SCREEN_NAME', 'thanks']\n",
      "['SCREEN_NAME', 'would', 'flight', 'hayden', 'steamboat']\n",
      "['SCREEN_NAME', 'guess', 'follow', 'order', 'try']\n",
      "['SCREEN_NAME', 'chance', 'summer']\n",
      "['SCREEN_NAME', 'correct', 'flight', 'charge', 'incorrectly']\n",
      "['SCREEN_NAME', 'taking', 'orleans', 'week', 'picture', 'shiver', 'forevercold']\n",
      "['SCREEN_NAME', 'please', 'spending', 'branding', 'savings', 'improve', 'luggage', 'short', 'staff', 'unacceptable']\n",
      "['SCREEN_NAME', 'boarding', 'attendant', 'amp;sock', 'show', 'agent', 'gross']\n",
      "['SCREEN_NAME', 'planning', 'waiting', 'customer', 'service']\n",
      "['SCREEN_NAME', 'automate', 'message', 'helpful', 'impossible', 'speak', 'human', 'right', 'desperately', 'luggage']\n",
      "['SCREEN_NAME', 'favorite', 'airline']\n",
      "['SCREEN_NAME', 'schedule', 'departure', 'sight', 'flight', 'longer', 'qualify', 'updateyourwebsite']\n",
      "['SCREEN_NAME', 'watching', 'safety', 'video', 'first', 'forever']\n",
      "['SCREEN_NAME', 'someone', 'please', 'answer', 'waaaaaaiting']\n",
      "['SCREEN_NAME', 'delay', 'arrive']\n",
      "['SCREEN_NAME', 'phone', 'usair', 'cancel', 'flightled', 'return', 'flight', 'miss', 'flight']\n",
      "['SCREEN_NAME', 'SCREEN_NAME', 'truck', 'biggie']\n",
      "['SCREEN_NAME', 'bring', 'fiancé', 'SCREEN_NAME']\n",
      "['SCREEN_NAME', 'absolutely', 'unacceptable', 'calling', 'every', 'minute']\n"
     ]
    }
   ],
   "source": [
    "import random\n",
    "text_data = []\n",
    "for line in df[\"text\"]:\n",
    "    tokens = prepare_text_for_lda(line)\n",
    "    if random.random() > .99:\n",
    "        text_data.append(tokens)"
   ]
  },
  {
   "cell_type": "code",
   "execution_count": 15,
   "metadata": {},
   "outputs": [],
   "source": [
    "from gensim import corpora\n",
    "dictionary = corpora.Dictionary(text_data)\n",
    "corpus = [dictionary.doc2bow(text) for text in text_data]\n",
    "\n",
    "import pickle\n",
    "pickle.dump(corpus, open('corpus.pkl', 'wb'))\n",
    "dictionary.save('dictionary.gensim')"
   ]
  },
  {
   "cell_type": "code",
   "execution_count": 24,
   "metadata": {},
   "outputs": [
    {
     "name": "stdout",
     "output_type": "stream",
     "text": [
      "(0, '0.068*\"SCREEN_NAME\" + 0.030*\"flight\" + 0.011*\"plane\" + 0.011*\"program\" + 0.011*\"charge\" + 0.011*\"phone\" + 0.011*\"flightled\"')\n",
      "(1, '0.038*\"SCREEN_NAME\" + 0.014*\"flying\" + 0.014*\"times\" + 0.014*\"call\" + 0.014*\"tomorrow\" + 0.014*\"rebook\" + 0.014*\"taking\"')\n",
      "(2, '0.109*\"SCREEN_NAME\" + 0.028*\"flight\" + 0.026*\"cancel\" + 0.021*\"still\" + 0.016*\"flying\" + 0.016*\"denver\" + 0.016*\"today\"')\n",
      "(3, '0.121*\"SCREEN_NAME\" + 0.038*\"flight\" + 0.026*\"service\" + 0.014*\"airline\" + 0.012*\"customer\" + 0.012*\"flyer\" + 0.012*\"bring\"')\n",
      "(4, '0.150*\"SCREEN_NAME\" + 0.021*\"flight\" + 0.019*\"delay\" + 0.016*\"thank\" + 0.016*\"phone\" + 0.016*\"try\" + 0.012*\"waiting\"')\n"
     ]
    }
   ],
   "source": [
    "import gensim\n",
    "NUM_TOPICS = 5\n",
    "ldamodel = gensim.models.ldamodel.LdaModel(corpus, num_topics = NUM_TOPICS, id2word=dictionary, passes=15)\n",
    "ldamodel.save('model5.gensim')\n",
    "\n",
    "topics = ldamodel.print_topics(num_words=7)\n",
    "for topic in topics:\n",
    "    print(topic)"
   ]
  },
  {
   "cell_type": "code",
   "execution_count": 25,
   "metadata": {},
   "outputs": [
    {
     "name": "stderr",
     "output_type": "stream",
     "text": [
      "/home/borbota/anaconda/envs/uab/lib/python3.6/site-packages/pyLDAvis/_prepare.py:387: DeprecationWarning: \n",
      ".ix is deprecated. Please use\n",
      ".loc for label based indexing or\n",
      ".iloc for positional indexing\n",
      "\n",
      "See the documentation here:\n",
      "http://pandas.pydata.org/pandas-docs/stable/indexing.html#ix-indexer-is-deprecated\n",
      "  topic_term_dists = topic_term_dists.ix[topic_order]\n"
     ]
    }
   ],
   "source": [
    "dictionary = gensim.corpora.Dictionary.load('dictionary.gensim')\n",
    "corpus = pickle.load(open('corpus.pkl', 'rb'))\n",
    "lda = gensim.models.ldamodel.LdaModel.load('model5.gensim')\n",
    "\n",
    "import pyLDAvis.gensim\n",
    "lda_display = pyLDAvis.gensim.prepare(lda, corpus, dictionary, sort_topics=False)\n",
    "pyLDAvis.display(lda_display)\n",
    "#p = pyLDAvis.gensim.prepare(topic_model, corpus, dictionary)\n",
    "pyLDAvis.save_html(lda_display, 'lda.html')"
   ]
  }
 ],
 "metadata": {
  "kernelspec": {
   "display_name": "Python 3",
   "language": "python",
   "name": "python3"
  },
  "language_info": {
   "codemirror_mode": {
    "name": "ipython",
    "version": 3
   },
   "file_extension": ".py",
   "mimetype": "text/x-python",
   "name": "python",
   "nbconvert_exporter": "python",
   "pygments_lexer": "ipython3",
   "version": "3.6.1"
  }
 },
 "nbformat": 4,
 "nbformat_minor": 2
}
