{
 "cells": [
  {
   "cell_type": "markdown",
   "metadata": {},
   "source": [
    "## Topicmodelling\n",
    "Based on: https://towardsdatascience.com/topic-modelling-in-python-with-nltk-and-gensim-4ef03213cd21"
   ]
  },
  {
   "cell_type": "code",
   "execution_count": 1,
   "metadata": {
    "collapsed": true
   },
   "outputs": [],
   "source": [
    "import pandas as pd"
   ]
  },
  {
   "cell_type": "code",
   "execution_count": 2,
   "metadata": {
    "collapsed": true
   },
   "outputs": [],
   "source": [
    "df = pd.read_csv(\"../data/tweets_public.csv\", encoding = \"utf-8\", sep = \",\")"
   ]
  },
  {
   "cell_type": "code",
   "execution_count": null,
   "metadata": {
    "collapsed": true
   },
   "outputs": [],
   "source": [
    "# do not run\n",
    "from nltk.corpus import stopwords\n",
    "\n",
    "stop = stopwords.words('english')\n",
    "df[\"text\"] = df[\"text\"].apply(lambda x: x.lower()) # get lower\n",
    "#df[\"text\"] = df[\"text\"].apply(lambda x: re.sub(\" +\", \" \", x)) # remove extra whitespaces\n",
    "#df[\"text\"] = df[\"text\"].apply(remove_whitespace) \n",
    "df[\"text_2\"] = df[\"text\"].apply(lambda x: re.sub(\"[^a-zA-Z]+\", \" \", x)) # remove everything not alphabetical characters\n",
    "df[\"text_3\"] = \\\n",
    "    df['text_2'].apply(lambda x: ' '.join([word for word in x.split() if word not in (stop)])) # remove stopwords"
   ]
  },
  {
   "cell_type": "code",
   "execution_count": 9,
   "metadata": {},
   "outputs": [],
   "source": [
    "import spacy\n",
    "spacy.load('en')\n",
    "from spacy.lang.en import English\n",
    "parser = English()\n",
    "\n",
    "def tokenize(text):\n",
    "    lda_tokens = []\n",
    "    tokens = parser(text)\n",
    "    for token in tokens:\n",
    "        if token.orth_.isspace():\n",
    "            continue\n",
    "        elif token.like_url:\n",
    "            lda_tokens.append('URL')\n",
    "        elif token.orth_.startswith('@'):\n",
    "            lda_tokens.append('SCREEN_NAME')\n",
    "        else:\n",
    "            lda_tokens.append(token.lower_)\n",
    "    return lda_tokens"
   ]
  },
  {
   "cell_type": "code",
   "execution_count": 7,
   "metadata": {},
   "outputs": [
    {
     "name": "stdout",
     "output_type": "stream",
     "text": [
      "[nltk_data] Downloading package wordnet to /home/borbota/nltk_data...\n",
      "[nltk_data]   Package wordnet is already up-to-date!\n"
     ]
    }
   ],
   "source": [
    "import nltk\n",
    "nltk.download('wordnet')\n",
    "\n",
    "from nltk.corpus import wordnet as wn\n",
    "def get_lemma(word):\n",
    "    lemma = wn.morphy(word)\n",
    "    if lemma is None:\n",
    "        return word\n",
    "    else:\n",
    "        return lemma\n",
    "    \n",
    "from nltk.stem.wordnet import WordNetLemmatizer\n",
    "def get_lemma2(word):\n",
    "    return WordNetLemmatizer().lemmatize(word)"
   ]
  },
  {
   "cell_type": "code",
   "execution_count": 10,
   "metadata": {},
   "outputs": [
    {
     "name": "stdout",
     "output_type": "stream",
     "text": [
      "[nltk_data] Downloading package stopwords to\n",
      "[nltk_data]     /home/borbota/nltk_data...\n",
      "[nltk_data]   Unzipping corpora/stopwords.zip.\n"
     ]
    }
   ],
   "source": [
    "nltk.download('stopwords')\n",
    "en_stop = set(nltk.corpus.stopwords.words('english'))"
   ]
  },
  {
   "cell_type": "code",
   "execution_count": 11,
   "metadata": {
    "collapsed": true
   },
   "outputs": [],
   "source": [
    "def prepare_text_for_lda(text):\n",
    "    tokens = tokenize(text)\n",
    "    tokens = [token for token in tokens if len(token) > 4]\n",
    "    tokens = [token for token in tokens if token not in en_stop]\n",
    "    tokens = [get_lemma(token) for token in tokens]\n",
    "    return tokens"
   ]
  },
  {
   "cell_type": "code",
   "execution_count": 12,
   "metadata": {},
   "outputs": [
    {
     "name": "stdout",
     "output_type": "stream",
     "text": [
      "['SCREEN_NAME', 'learn', 'flight', 'cancel', \"flightled.can't\", 'phone', 'option', 'assistance', 'online', 'suggestion']\n",
      "['SCREEN_NAME', 'price']\n",
      "['SCREEN_NAME', 'flight', 'worst', 'experience', 'flight', 'regret', 'opening', 'mile', 'hotterandlongerthanhell']\n",
      "['SCREEN_NAME', 'thank']\n",
      "['SCREEN_NAME', 'complete', 'respect', 'call', 'daughter']\n",
      "['SCREEN_NAME', 'understand', 'still', 'reservation', 'online']\n",
      "['SCREEN_NAME', 'hours', 'already']\n",
      "['SCREEN_NAME', 'earlier', 'flight', 'sap-&gt;mia', '03.03', 'currently', 'book', 'flight']\n",
      "['SCREEN_NAME', 'course', 'airport', 'looking', 'claim', 'still']\n",
      "['.@americanair', 'phone', 'reservation', 'system', 'automatically', 'disconnect']\n",
      "['SCREEN_NAME', 'turn', 'thanks', 'useless', 'centre', 'useless', 'website']\n",
      "['SCREEN_NAME', 'today', 'issue', 'clear', 'beautifully', 'thank', 'check']\n",
      "['SCREEN_NAME', 'final', 'connection', 'leave', 'npbhd0']\n",
      "['SCREEN_NAME', 'thnkx', 'charge', 'neveragain']\n",
      "['SCREEN_NAME', 'flight', 'tomorrow', 'cancel', 'flightled', 'notification', 'times', 'rebook', 'another', 'airline']\n",
      "['SCREEN_NAME', 'chicago', 'great']\n",
      "['SCREEN_NAME', 'want', 'route', 'plan', 'newark', 'flying']\n",
      "['SCREEN_NAME', 'phone', 'customer', 'service', 'figure', 'awesome', 'service']\n",
      "['SCREEN_NAME', 'sitting', 'least', 'phone', 'queue', 'hope', 'things', 'rebooked', 'least', 'plastic', 'wings', 'tears']\n",
      "['SCREEN_NAME', 'SCREEN_NAME', 'worst', 'experience', 'flying', 'delay', 'cancel', 'flightlations', 'update', 'wasting']\n",
      "['SCREEN_NAME', 'flight', 'cancel', 'flightled', 'denver', 'service', 'agent', 'offer', 'denver', 'atlanta']\n",
      "['SCREEN_NAME', 'worst', 'airline', 'fly', 'treat', 'garbage', 'today']\n",
      "['SCREEN_NAME', 'greeting']\n",
      "['SCREEN_NAME', 'thank']\n",
      "['SCREEN_NAME', 'book', 'flight', 'denver', 'specific', 'meeting', 'fail', 'cause', 'weather']\n",
      "['SCREEN_NAME', 'working', 'coach', 'thing', 'land', 'ahead', 'schedule']\n",
      "['SCREEN_NAME', 'finally', 'plane', 'nashville', 'lovesouthwestair']\n",
      "['SCREEN_NAME', 'could', 'want', 'would', 'internet', 'reservation', 'chrome', 'several', 'computer']\n",
      "['SCREEN_NAME', 'bring', 'shuttle', 'double', 'check', 'still', 'concourse']\n",
      "['SCREEN_NAME', 'update', 'flight']\n",
      "['SCREEN_NAME', 'throne']\n",
      "['SCREEN_NAME', 'vega', 'weather']\n",
      "['SCREEN_NAME', 'try', 'anyone', 'phone', 'cancel', 'flight', 'please', 'denver']\n",
      "['SCREEN_NAME', 'using', 'breavement', 'program', 'funeral']\n",
      "['SCREEN_NAME', 'flight', 'cancel', 'flight', 'rebook']\n",
      "['SCREEN_NAME', 'child', 'birthdate']\n",
      "['SCREEN_NAME', 'something', 'recent', 'flight', 'today', 'contact', 'retrieve', 'please', 'thanks']\n",
      "['SCREEN_NAME', 'teach', 'agent', 'learn', 'overhead', 'space', 'check']\n",
      "['SCREEN_NAME', 'appreciate', 'problem', 'flying', 'pretty', 'aggravate']\n",
      "['SCREEN_NAME', 'try', 'calling', 'times', 'getting', 'someone', 'please']\n",
      "['SCREEN_NAME', 'still', 'waiting', 'waiting', 'freezing', 'weather', 'waiting']\n",
      "['SCREEN_NAME', 'actually', 'care', 'would', 'thing', 'sound', 'lousy', 'service']\n",
      "['SCREEN_NAME', 'ignore', 'purpose', 'enough', 'automate', 'system']\n",
      "['SCREEN_NAME', 'delay', 'puerto', 'delay', 'disgraceful']\n",
      "['SCREEN_NAME', 'cancel', 'flightled', 'ticket', 'taking', 'month', 'refund', 'still', 'waiting']\n",
      "['SCREEN_NAME', 'recent', 'services', 'aweful', 'disappoint', 'never']\n",
      "['SCREEN_NAME', 'customerservice', 'flyer', 'switching', 'airline', 'frustrate']\n",
      "['SCREEN_NAME', 'costumer', 'service', 'today', 'providence', 'airport', 'suck', 'recommend', 'airline', 'learn', 'check', 'weather', 'honest']\n",
      "['SCREEN_NAME', 'winner', 'destinationdragons']\n",
      "['SCREEN_NAME', 'spring', 'technically', 'maybe', 'bump', 'class', 'friday']\n",
      "['SCREEN_NAME', 'SCREEN_NAME', 'cover', 'service', 'waiting']\n",
      "['SCREEN_NAME', 'gain', 'altitude', 'skywest', 'turbulence', 'investor', 'business', 'daily']\n",
      "['SCREEN_NAME', 'another', 'awesome', 'telephone', 'experience', 'SCREEN_NAME', 'thank', 'greatcustomerservice']\n",
      "['SCREEN_NAME', 'volume']\n",
      "['SCREEN_NAME', 'frequent', 'flyer', 'number', 'website']\n",
      "['SCREEN_NAME', 'thank', 'flying', 'diego']\n",
      "['SCREEN_NAME', 'pilot', 'ua475', 'land', 'plane', 'gently', 'place', 'whip', 'cream', 'smooth', 'landing']\n",
      "['SCREEN_NAME', 'airline', 'suck', 'customer', 'service', 'suck', 'courtesy', 'incompetent', 'passenger', 'matter-', 'though']\n",
      "['SCREEN_NAME', 'always', 'hope', 'improvement']\n",
      "['SCREEN_NAME', 'provide', 'voucher', 'overnight', 'floor', 'ohare', 'gross', 'helpmeplease', 'anyonethere']\n",
      "['SCREEN_NAME', 'report', 'system', 'failure', 'delay', 'flight', 'currently', 'sitting', 'tarmac']\n",
      "['SCREEN_NAME', 'shoulda', 'SCREEN_NAME', 'ticket', 'instead', 'driving', 'flying']\n",
      "['SCREEN_NAME', 'rndtrp', 'SCREEN_NAME', 'SCREEN_NAME', 'try', 'travel', 'reservation', 'vega', 'flight']\n",
      "['SCREEN_NAME', 'customer', 'service', 'display', 'weekend', 'storm', 'stick', 'tarmac', 'hours', 'answer']\n",
      "['SCREEN_NAME', 'flight', 'always', 'delay', 'unfortunately']\n",
      "['SCREEN_NAME', 'destination', 'claim', 'ticket', 'status', 'location']\n",
      "['SCREEN_NAME', 'finally', 'cancel', 'flight', 'ticket', 'stick', 'SCREEN_NAME', 'SCREEN_NAME', 'allow', 'online', 'cancel', 'flight', 'refund']\n",
      "['SCREEN_NAME', 'referral', 'program', 'milageplus', 'explorer']\n",
      "['SCREEN_NAME', 'bring', 'photo', 'birth', 'certificate', 'flight', 'uncomfortable', 'traveling', 'thing']\n",
      "['SCREEN_NAME', 'learn', 'treat', 'people', 'respect', 'little', 'dignity']\n",
      "['SCREEN_NAME', 'flying', 'denver', 'tomorrow', 'rebook']\n",
      "['SCREEN_NAME', 'would', 'add', 'point']\n",
      "['SCREEN_NAME', 'try', 'merge', 'flyer', 'accts', 'getting', 'error', 'message', 'machine', 'calling', 'provide']\n",
      "['SCREEN_NAME', 'diego', 'delay', 'jfk!even', 'jetblue', '50.000', 'travel', 'mile', 'still', 'nothing']\n",
      "['SCREEN_NAME', 'kid', 'think', 'call', 'dozens', 'times', 'tell', 'hang']\n",
      "['SCREEN_NAME', 'follow', 'thanks']\n",
      "['SCREEN_NAME', 'thanks']\n",
      "['SCREEN_NAME', 'would', 'flight', 'hayden', 'steamboat']\n",
      "['SCREEN_NAME', 'guess', 'follow', 'order', 'try']\n",
      "['SCREEN_NAME', 'chance', 'summer']\n",
      "['SCREEN_NAME', 'correct', 'flight', 'charge', 'incorrectly']\n",
      "['SCREEN_NAME', 'taking', 'orleans', 'week', 'picture', 'shiver', 'forevercold']\n",
      "['SCREEN_NAME', 'please', 'spending', 'branding', 'savings', 'improve', 'luggage', 'short', 'staff', 'unacceptable']\n",
      "['SCREEN_NAME', 'boarding', 'attendant', 'amp;sock', 'show', 'agent', 'gross']\n",
      "['SCREEN_NAME', 'planning', 'waiting', 'customer', 'service']\n",
      "['SCREEN_NAME', 'automate', 'message', 'helpful', 'impossible', 'speak', 'human', 'right', 'desperately', 'luggage']\n",
      "['SCREEN_NAME', 'favorite', 'airline']\n",
      "['SCREEN_NAME', 'schedule', 'departure', 'sight', 'flight', 'longer', 'qualify', 'updateyourwebsite']\n",
      "['SCREEN_NAME', 'watching', 'safety', 'video', 'first', 'forever']\n",
      "['SCREEN_NAME', 'someone', 'please', 'answer', 'waaaaaaiting']\n",
      "['SCREEN_NAME', 'delay', 'arrive']\n",
      "['SCREEN_NAME', 'phone', 'usair', 'cancel', 'flightled', 'return', 'flight', 'miss', 'flight']\n",
      "['SCREEN_NAME', 'SCREEN_NAME', 'truck', 'biggie']\n",
      "['SCREEN_NAME', 'bring', 'fiancé', 'SCREEN_NAME']\n",
      "['SCREEN_NAME', 'absolutely', 'unacceptable', 'calling', 'every', 'minute']\n"
     ]
    }
   ],
   "source": [
    "import random\n",
    "text_data = []\n",
    "for line in df[\"text\"]:\n",
    "    tokens = prepare_text_for_lda(line)\n",
    "    if random.random() > .99:\n",
    "        text_data.append(tokens)"
   ]
  },
  {
   "cell_type": "code",
   "execution_count": 15,
   "metadata": {},
   "outputs": [],
   "source": [
    "from gensim import corpora\n",
    "dictionary = corpora.Dictionary(text_data)\n",
    "corpus = [dictionary.doc2bow(text) for text in text_data]\n",
    "\n",
    "import pickle\n",
    "pickle.dump(corpus, open('corpus.pkl', 'wb'))\n",
    "dictionary.save('dictionary.gensim')"
   ]
  },
  {
   "cell_type": "code",
   "execution_count": 24,
   "metadata": {},
   "outputs": [
    {
     "name": "stdout",
     "output_type": "stream",
     "text": [
      "(0, '0.068*\"SCREEN_NAME\" + 0.030*\"flight\" + 0.011*\"plane\" + 0.011*\"program\" + 0.011*\"charge\" + 0.011*\"phone\" + 0.011*\"flightled\"')\n",
      "(1, '0.038*\"SCREEN_NAME\" + 0.014*\"flying\" + 0.014*\"times\" + 0.014*\"call\" + 0.014*\"tomorrow\" + 0.014*\"rebook\" + 0.014*\"taking\"')\n",
      "(2, '0.109*\"SCREEN_NAME\" + 0.028*\"flight\" + 0.026*\"cancel\" + 0.021*\"still\" + 0.016*\"flying\" + 0.016*\"denver\" + 0.016*\"today\"')\n",
      "(3, '0.121*\"SCREEN_NAME\" + 0.038*\"flight\" + 0.026*\"service\" + 0.014*\"airline\" + 0.012*\"customer\" + 0.012*\"flyer\" + 0.012*\"bring\"')\n",
      "(4, '0.150*\"SCREEN_NAME\" + 0.021*\"flight\" + 0.019*\"delay\" + 0.016*\"thank\" + 0.016*\"phone\" + 0.016*\"try\" + 0.012*\"waiting\"')\n"
     ]
    }
   ],
   "source": [
    "import gensim\n",
    "NUM_TOPICS = 5\n",
    "ldamodel = gensim.models.ldamodel.LdaModel(corpus, num_topics = NUM_TOPICS, id2word=dictionary, passes=15)\n",
    "ldamodel.save('model5.gensim')\n",
    "\n",
    "topics = ldamodel.print_topics(num_words=7)\n",
    "for topic in topics:\n",
    "    print(topic)"
   ]
  },
  {
   "cell_type": "code",
   "execution_count": 22,
   "metadata": {},
   "outputs": [
    {
     "name": "stderr",
     "output_type": "stream",
     "text": [
      "/home/borbota/anaconda/envs/uab/lib/python3.6/site-packages/pyLDAvis/_prepare.py:387: DeprecationWarning: \n",
      ".ix is deprecated. Please use\n",
      ".loc for label based indexing or\n",
      ".iloc for positional indexing\n",
      "\n",
      "See the documentation here:\n",
      "http://pandas.pydata.org/pandas-docs/stable/indexing.html#ix-indexer-is-deprecated\n",
      "  topic_term_dists = topic_term_dists.ix[topic_order]\n"
     ]
    },
    {
     "data": {
      "text/html": [
       "\n",
       "<link rel=\"stylesheet\" type=\"text/css\" href=\"https://cdn.rawgit.com/bmabey/pyLDAvis/files/ldavis.v1.0.0.css\">\n",
       "\n",
       "\n",
       "<div id=\"ldavis_el170571399594970282563698256046\"></div>\n",
       "<script type=\"text/javascript\">\n",
       "\n",
       "var ldavis_el170571399594970282563698256046_data = {\"mdsDat\": {\"Freq\": [20.210126876831055, 30.531906127929688, 14.917980194091797, 29.527347564697266, 4.812641620635986], \"cluster\": [1, 1, 1, 1, 1], \"topics\": [1, 2, 3, 4, 5], \"x\": [0.13136957380105574, -0.09647937217088691, -0.003679612371326531, -0.04547425522122633, 0.01426366596238413], \"y\": [-0.024532003556925037, -0.08072579691269173, 0.034018098093110447, 0.09134200098738235, -0.02010229861087606]}, \"tinfo\": {\"Category\": [\"Default\", \"Default\", \"Default\", \"Default\", \"Default\", \"Default\", \"Default\", \"Default\", \"Default\", \"Default\", \"Default\", \"Default\", \"Default\", \"Default\", \"Default\", \"Default\", \"Default\", \"Default\", \"Default\", \"Default\", \"Default\", \"Default\", \"Default\", \"Default\", \"Default\", \"Default\", \"Default\", \"Default\", \"Default\", \"Default\", \"Topic1\", \"Topic1\", \"Topic1\", \"Topic1\", \"Topic1\", \"Topic1\", \"Topic1\", \"Topic1\", \"Topic1\", \"Topic1\", \"Topic1\", \"Topic1\", \"Topic1\", \"Topic1\", \"Topic1\", \"Topic1\", \"Topic1\", \"Topic1\", \"Topic1\", \"Topic1\", \"Topic1\", \"Topic1\", \"Topic1\", \"Topic1\", \"Topic1\", \"Topic1\", \"Topic1\", \"Topic1\", \"Topic1\", \"Topic1\", \"Topic1\", \"Topic1\", \"Topic1\", \"Topic1\", \"Topic1\", \"Topic1\", \"Topic1\", \"Topic1\", \"Topic1\", \"Topic1\", \"Topic1\", \"Topic1\", \"Topic1\", \"Topic2\", \"Topic2\", \"Topic2\", \"Topic2\", \"Topic2\", \"Topic2\", \"Topic2\", \"Topic2\", \"Topic2\", \"Topic2\", \"Topic2\", \"Topic2\", \"Topic2\", \"Topic2\", \"Topic2\", \"Topic2\", \"Topic2\", \"Topic2\", \"Topic2\", \"Topic2\", \"Topic2\", \"Topic2\", \"Topic2\", \"Topic2\", \"Topic2\", \"Topic2\", \"Topic2\", \"Topic2\", \"Topic2\", \"Topic2\", \"Topic2\", \"Topic2\", \"Topic2\", \"Topic2\", \"Topic2\", \"Topic2\", \"Topic2\", \"Topic2\", \"Topic2\", \"Topic2\", \"Topic2\", \"Topic2\", \"Topic2\", \"Topic2\", \"Topic2\", \"Topic2\", \"Topic2\", \"Topic2\", \"Topic2\", \"Topic2\", \"Topic3\", \"Topic3\", \"Topic3\", \"Topic3\", \"Topic3\", \"Topic3\", \"Topic3\", \"Topic3\", \"Topic3\", \"Topic3\", \"Topic3\", \"Topic3\", \"Topic3\", \"Topic3\", \"Topic3\", \"Topic3\", \"Topic3\", \"Topic3\", \"Topic3\", \"Topic3\", \"Topic3\", \"Topic3\", \"Topic3\", \"Topic3\", \"Topic3\", \"Topic3\", \"Topic3\", \"Topic3\", \"Topic3\", \"Topic3\", \"Topic3\", \"Topic3\", \"Topic3\", \"Topic3\", \"Topic3\", \"Topic3\", \"Topic3\", \"Topic3\", \"Topic3\", \"Topic3\", \"Topic3\", \"Topic3\", \"Topic3\", \"Topic3\", \"Topic3\", \"Topic3\", \"Topic3\", \"Topic3\", \"Topic3\", \"Topic3\", \"Topic3\", \"Topic3\", \"Topic3\", \"Topic4\", \"Topic4\", \"Topic4\", \"Topic4\", \"Topic4\", \"Topic4\", \"Topic4\", \"Topic4\", \"Topic4\", \"Topic4\", \"Topic4\", \"Topic4\", \"Topic4\", \"Topic4\", \"Topic4\", \"Topic4\", \"Topic4\", \"Topic4\", \"Topic4\", \"Topic4\", \"Topic4\", \"Topic4\", \"Topic4\", \"Topic4\", \"Topic4\", \"Topic4\", \"Topic4\", \"Topic4\", \"Topic4\", \"Topic4\", \"Topic4\", \"Topic4\", \"Topic4\", \"Topic4\", \"Topic4\", \"Topic4\", \"Topic4\", \"Topic4\", \"Topic4\", \"Topic4\", \"Topic4\", \"Topic4\", \"Topic4\", \"Topic4\", \"Topic4\", \"Topic4\", \"Topic4\", \"Topic4\", \"Topic5\", \"Topic5\", \"Topic5\", \"Topic5\", \"Topic5\", \"Topic5\", \"Topic5\", \"Topic5\", \"Topic5\", \"Topic5\", \"Topic5\", \"Topic5\", \"Topic5\", \"Topic5\", \"Topic5\", \"Topic5\", \"Topic5\", \"Topic5\", \"Topic5\", \"Topic5\", \"Topic5\", \"Topic5\", \"Topic5\", \"Topic5\", \"Topic5\", \"Topic5\", \"Topic5\", \"Topic5\", \"Topic5\", \"Topic5\", \"Topic5\", \"Topic5\", \"Topic5\", \"Topic5\", \"Topic5\", \"Topic5\", \"Topic5\", \"Topic5\", \"Topic5\", \"Topic5\", \"Topic5\", \"Topic5\", \"Topic5\", \"Topic5\", \"Topic5\", \"Topic5\", \"Topic5\", \"Topic5\", \"Topic5\", \"Topic5\", \"Topic5\"], \"Freq\": [17.0, 5.0, 7.0, 2.0, 3.0, 4.0, 1.0, 4.0, 3.0, 2.0, 4.0, 1.0, 1.0, 1.0, 0.0, 2.0, 3.0, 3.0, 1.0, 4.0, 71.0, 3.0, 4.0, 2.0, 1.0, 1.0, 6.0, 1.0, 1.0, 1.0, 1.4302079677581787, 0.7801302671432495, 0.7801299095153809, 0.7801300287246704, 0.7801294922828674, 0.7801294326782227, 0.7801292538642883, 0.780129075050354, 0.7801288366317749, 0.7801270484924316, 0.7801270484924316, 0.7801270484924316, 0.7801268100738525, 0.7801268100738525, 0.7801267504692078, 0.7801266312599182, 0.7801265716552734, 0.7801265716552734, 0.7801266312599182, 0.7801263332366943, 0.7801251411437988, 0.7801249027252197, 0.7801247239112854, 0.7801249027252197, 0.7801247239112854, 0.7801244854927063, 0.7801242470741272, 0.7801241874694824, 0.7801241874694824, 0.780123770236969, 2.0827128887176514, 15.083884239196777, 1.4325982332229614, 1.4316670894622803, 0.7811746001243591, 0.7808213233947754, 0.7805888652801514, 0.7805707454681396, 0.7805294394493103, 0.7804886698722839, 0.7803192734718323, 0.7802998423576355, 0.7802641987800598, 3.033609390258789, 1.589077115058899, 1.5890741348266602, 1.5890710353851318, 1.5890692472457886, 1.5890648365020752, 1.5890592336654663, 1.5890499353408813, 1.5890411138534546, 12.440614700317383, 5.203221321105957, 0.8667628765106201, 0.8667584657669067, 0.8667579889297485, 0.8667579889297485, 0.8667573928833008, 0.866757333278656, 0.8667560815811157, 0.8667559623718262, 0.8667557835578918, 0.8667557835578918, 0.866755485534668, 0.8667554259300232, 0.8667551279067993, 0.8667552471160889, 0.8667551279067993, 0.8667550683021545, 0.8667551279067993, 0.8667551279067993, 0.8667550683021545, 0.8667550683021545, 3.7575104236602783, 1.5892012119293213, 1.5896021127700806, 1.5899641513824463, 1.5899860858917236, 1.5898786783218384, 22.547698974609375, 1.589019536972046, 1.5895799398422241, 1.591021180152893, 1.5886257886886597, 1.5878570079803467, 1.5878359079360962, 1.5853891372680664, 1.589055061340332, 1.586137294769287, 1.5858135223388672, 0.867230236530304, 0.8669878840446472, 1.3386945724487305, 1.3386911153793335, 3.1669294834136963, 0.7301933765411377, 0.7301932573318481, 0.7301930785179138, 0.7301927804946899, 0.7301927804946899, 0.7301927804946899, 0.7301924228668213, 0.7301924228668213, 0.730192244052887, 0.730192244052887, 0.7301918268203735, 0.7301916480064392, 0.7301917672157288, 0.730191171169281, 0.7301903367042542, 0.7301894426345825, 0.7301867604255676, 0.730186402797699, 0.7301862835884094, 0.7301862835884094, 0.7301851511001587, 0.7301805019378662, 0.7301802635192871, 0.7301798462867737, 0.7301798462867737, 0.7301796078681946, 0.7301796078681946, 0.730179488658905, 1.3395799398422241, 8.657722473144531, 1.3406038284301758, 1.3421695232391357, 1.3393126726150513, 1.332564353942871, 0.7319976687431335, 0.731867253780365, 0.7317256927490234, 0.7315933108329773, 0.7314993143081665, 0.7314493656158447, 0.7312155365943909, 0.7311849594116211, 0.7309960722923279, 0.7307803630828857, 0.7307386994361877, 0.7307295203208923, 0.7306501865386963, 0.7306151390075684, 0.7303035259246826, 0.7302223443984985, 1.5554243326187134, 1.5554238557815552, 1.5554231405258179, 1.5554001331329346, 1.5552030801773071, 1.555038571357727, 2.9748058319091797, 2.2630903720855713, 2.263493776321411, 0.8484119176864624, 0.8484119176864624, 0.8484116196632385, 0.848411500453949, 0.8484094142913818, 0.8484089374542236, 0.8484084606170654, 0.8484084606170654, 0.8484079241752625, 0.8484071493148804, 0.8484072685241699, 0.8484071493148804, 0.8484070897102356, 0.8484067320823669, 0.8484063148498535, 0.8484063148498535, 0.8484058976173401, 0.8484060168266296, 0.8484047651290894, 0.8484043478965759, 0.8484042286872864, 2.96874737739563, 2.9723293781280518, 1.5559710264205933, 2.2625749111175537, 24.16242218017578, 1.5556172132492065, 1.5566132068634033, 1.5582619905471802, 1.5558712482452393, 2.2616021633148193, 1.5509735345840454, 2.9605393409729004, 1.555627465248108, 1.5518244504928589, 0.8486801385879517, 0.8486178517341614, 0.84846031665802, 0.8484600186347961, 0.814655601978302, 0.44435811042785645, 0.8186842203140259, 0.44512680172920227, 0.4457918107509613, 0.44546762108802795, 0.44440779089927673, 0.4463523328304291, 0.44490307569503784, 0.07407057285308838, 0.07406625896692276, 0.074066162109375, 0.0740661546587944, 0.07406610995531082, 0.07406608015298843, 0.07406603544950485, 0.07406599819660187, 0.07406526803970337, 0.07406513392925262, 0.07406463474035263, 0.07406448572874069, 0.07406492531299591, 0.07406436651945114, 0.07406433671712875, 0.07406429201364517, 0.0740635097026825, 0.07406333833932877, 0.07406312227249146, 0.07406306266784668, 0.07406304031610489, 0.444940984249115, 0.44417983293533325, 0.8071432709693909, 0.07434562593698502, 0.0742666944861412, 0.0742422491312027, 0.07422047108411789, 0.07420104742050171, 0.07433932274580002, 0.07432647794485092, 0.07428101450204849, 0.07421340048313141, 0.07419386506080627, 0.07409053295850754, 0.07408704608678818, 0.07408370822668076, 0.07408317923545837, 0.07408284395933151, 0.07408241927623749, 0.07408218830823898, 0.07408080995082855], \"Term\": [\"flight\", \"delay\", \"cancel\", \"rebook\", \"denver\", \"flying\", \"tomorrow\", \"airline\", \"flightled\", \"times\", \"still\", \"another\", \"least\", \"travel\", \"notification\", \"suck\", \"today\", \"try\", \"want\", \"thank\", \"SCREEN_NAME\", \"reservation\", \"waiting\", \"worst\", \"vega\", \"plane\", \"service\", \"tears\", \"plastic\", \"queue\", \"want\", \"place\", \"whip\", \"cream\", \"smooth\", \"gently\", \"landing\", \"ua475\", \"pilot\", \"floor\", \"chrome\", \"voucher\", \"overnight\", \"internet\", \"could\", \"helpmeplease\", \"computer\", \"anyonethere\", \"ohare\", \"several\", \"tell\", \"business\", \"dozens\", \"turbulence\", \"gain\", \"daily\", \"altitude\", \"skywest\", \"think\", \"investor\", \"flying\", \"SCREEN_NAME\", \"reservation\", \"ticket\", \"would\", \"call\", \"land\", \"program\", \"gross\", \"claim\", \"plane\", \"taking\", \"provide\", \"denver\", \"stick\", \"tarmac\", \"currently\", \"book\", \"useless\", \"respect\", \"hours\", \"update\", \"flight\", \"cancel\", \"allow\", \"weekend\", \"display\", \"storm\", \"offer\", \"atlanta\", \"birth\", \"uncomfortable\", \"fail\", \"specific\", \"hotterandlongerthanhell\", \"usair\", \"report\", \"opening\", \"regret\", \"failure\", \"cause\", \"meeting\", \"photo\", \"miss\", \"service\", \"worst\", \"system\", \"agent\", \"thing\", \"experience\", \"SCREEN_NAME\", \"flightled\", \"customer\", \"would\", \"learn\", \"try\", \"please\", \"flying\", \"phone\", \"waiting\", \"delay\", \"answer\", \"bring\", \"least\", \"travel\", \"delay\", \"queue\", \"tears\", \"plastic\", \"wings\", \"rebooked\", \"things\", \"matter-\", \"though\", \"incompetent\", \"courtesy\", \"50.000\", \"jetblue\", \"nothing\", \"passenger\", \"jfk!even\", \"rndtrp\", \"concourse\", \"garbage\", \"shuttle\", \"double\", \"fly\", \"disgraceful\", \"nashville\", \"lovesouthwestair\", \"order\", \"puerto\", \"guess\", \"unfortunately\", \"suck\", \"SCREEN_NAME\", \"try\", \"airline\", \"still\", \"flight\", \"follow\", \"bring\", \"hope\", \"diego\", \"vega\", \"always\", \"customer\", \"phone\", \"reservation\", \"calling\", \"treat\", \"sitting\", \"mile\", \"check\", \"unacceptable\", \"finally\", \"schedule\", \"awesome\", \"airport\", \"charge\", \"luggage\", \"message\", \"thank\", \"today\", \"thanks\", \"costumer\", \"honest\", \"recommend\", \"providence\", \"machine\", \"accts\", \"merge\", \"error\", \"branding\", \"short\", \"spending\", \"staff\", \"option\", \"savings\", \"improve\", \"assistance\", \"flightled.can't\", \"suggestion\", \"retrieve\", \"contact\", \"something\", \"still\", \"waiting\", \"flyer\", \"please\", \"SCREEN_NAME\", \"online\", \"check\", \"weather\", \"learn\", \"service\", \"airline\", \"flight\", \"phone\", \"cancel\", \"getting\", \"recent\", \"automate\", \"calling\", \"tomorrow\", \"notification\", \"rebook\", \"another\", \"times\", \"flightled\", \"denver\", \"airline\", \"flying\", \"arrive\", \"unfortunately\", \"lovesouthwestair\", \"order\", \"guess\", \"nashville\", \"puerto\", \"disgraceful\", \"minute\", \"every\", \"fly\", \"shuttle\", \"absolutely\", \"garbage\", \"concourse\", \"double\", \"rndtrp\", \"jfk!even\", \"jetblue\", \"50.000\", \"nothing\", \"cancel\", \"flight\", \"SCREEN_NAME\", \"anyone\", \"boarding\", \"attendant\", \"show\", \"amp;sock\", \"phone\", \"please\", \"try\", \"agent\", \"gross\", \"thank\", \"volume\", \"would\", \"weather\", \"follow\", \"thanks\", \"bring\", \"throne\"], \"Total\": [17.0, 5.0, 7.0, 2.0, 3.0, 4.0, 1.0, 4.0, 3.0, 2.0, 4.0, 1.0, 1.0, 1.0, 0.0, 2.0, 3.0, 3.0, 1.0, 4.0, 71.0, 3.0, 4.0, 2.0, 1.0, 1.0, 6.0, 1.0, 1.0, 1.0, 1.9118854999542236, 1.2617696523666382, 1.2617695331573486, 1.2617695331573486, 1.261769413948059, 1.261769413948059, 1.261769413948059, 1.261769413948059, 1.261769413948059, 1.2617689371109009, 1.2617689371109009, 1.26176917552948, 1.2617690563201904, 1.2617690563201904, 1.26176917552948, 1.2617689371109009, 1.2617689371109009, 1.2617688179016113, 1.2617689371109009, 1.2617690563201904, 1.2617688179016113, 1.2617685794830322, 1.2617684602737427, 1.2617686986923218, 1.2617685794830322, 1.2617685794830322, 1.2617685794830322, 1.2617685794830322, 1.2617685794830322, 1.2617684602737427, 4.376163959503174, 71.25887298583984, 3.227067708969116, 3.3410837650299072, 3.4133543968200684, 1.9839966297149658, 1.9687459468841553, 1.9687399864196777, 1.9686387777328491, 1.9687505960464478, 1.8702807426452637, 1.9687706232070923, 1.9687762260437012, 3.8711740970611572, 2.056281328201294, 2.0562803745269775, 2.056279420852661, 2.056279182434082, 2.0562782287597656, 2.056276321411133, 2.0562736988067627, 2.056272506713867, 17.307947158813477, 7.451741695404053, 1.3339647054672241, 1.3339636325836182, 1.3339636325836182, 1.3339636325836182, 1.3339632749557495, 1.333963394165039, 1.3339629173278809, 1.33396315574646, 1.3339630365371704, 1.33396315574646, 1.3339629173278809, 1.3339627981185913, 1.3339626789093018, 1.3339627981185913, 1.3339627981185913, 1.3339626789093018, 1.3339627981185913, 1.3339627981185913, 1.3339627981185913, 1.3339627981185913, 6.952907562255859, 2.6648001670837402, 2.706446409225464, 2.763185977935791, 2.7633144855499268, 2.7633135318756104, 71.25887298583984, 3.132601022720337, 3.3716421127319336, 3.4133543968200684, 3.4703116416931152, 3.9797770977020264, 4.177036762237549, 4.376163959503174, 4.7286858558654785, 4.884299278259277, 5.098272323608398, 2.0409486293792725, 2.6492080688476562, 1.8286553621292114, 1.8286551237106323, 5.098272323608398, 1.220153570175171, 1.220153570175171, 1.220153570175171, 1.220153570175171, 1.2201534509658813, 1.2201536893844604, 1.2201534509658813, 1.220153570175171, 1.2201533317565918, 1.220153570175171, 1.2201533317565918, 1.2201533317565918, 1.220153570175171, 1.2201534509658813, 1.2201533317565918, 1.2201532125473022, 1.2201528549194336, 1.2201528549194336, 1.2201528549194336, 1.2201529741287231, 1.2201528549194336, 1.220152497291565, 1.2201521396636963, 1.2201522588729858, 1.2201522588729858, 1.220152497291565, 1.220152497291565, 1.220152497291565, 2.535532236099243, 71.25887298583984, 3.9797770977020264, 4.261024475097656, 4.656641006469727, 17.307947158813477, 1.926865577697754, 2.6492080688476562, 1.926917552947998, 1.942193865776062, 1.8701751232147217, 1.9269590377807617, 3.3716421127319336, 4.7286858558654785, 3.227067708969116, 2.6493518352508545, 1.942359447479248, 1.9423644542694092, 1.9423788785934448, 3.3563995361328125, 1.927142858505249, 1.9424574375152588, 2.025693416595459, 2.025693416595459, 2.025692939758301, 2.0256876945495605, 2.0256764888763428, 2.025663137435913, 4.161910533905029, 3.341306686401367, 3.4549899101257324, 1.3186721801757812, 1.3186722993850708, 1.3186721801757812, 1.3186721801757812, 1.3186715841293335, 1.3186715841293335, 1.318671464920044, 1.318671464920044, 1.3186711072921753, 1.3186709880828857, 1.3186711072921753, 1.3186709880828857, 1.3186711072921753, 1.3186711072921753, 1.3186707496643066, 1.3186708688735962, 1.3186708688735962, 1.3186709880828857, 1.3186705112457275, 1.3186702728271484, 1.318670392036438, 4.656641006469727, 4.884299278259277, 2.675851345062256, 4.177036762237549, 71.25887298583984, 2.748000144958496, 3.3563995361328125, 3.3983256816864014, 3.4703116416931152, 6.952907562255859, 4.261024475097656, 17.307947158813477, 4.7286858558654785, 7.451741695404053, 2.04097318649292, 2.040972948074341, 2.040952205657959, 2.6493518352508545, 1.3522617816925049, 0.981956958770752, 2.0707459449768066, 1.688280463218689, 2.3530895709991455, 3.132601022720337, 3.8711740970611572, 4.261024475097656, 4.376163959503174, 1.2201508283615112, 1.220152497291565, 1.2201522588729858, 1.2201522588729858, 1.220152497291565, 1.2201521396636963, 1.220152497291565, 1.220152497291565, 1.2201623916625977, 1.2201604843139648, 1.2201528549194336, 1.2201528549194336, 1.2201603651046753, 1.2201528549194336, 1.2201528549194336, 1.2201529741287231, 1.2201532125473022, 1.2201533317565918, 1.2201533317565918, 1.2201533317565918, 1.220153570175171, 7.451741695404053, 17.307947158813477, 71.25887298583984, 1.3336962461471558, 1.3184869289398193, 1.3185093402862549, 1.3185292482376099, 1.3185467720031738, 4.7286858558654785, 4.177036762237549, 3.9797770977020264, 2.763185977935791, 1.9686387777328491, 4.161910533905029, 1.31864595413208, 3.4133543968200684, 3.3983256816864014, 1.926865577697754, 3.4549899101257324, 2.6492080688476562, 1.261757731437683], \"loglift\": [30.0, 29.0, 28.0, 27.0, 26.0, 25.0, 24.0, 23.0, 22.0, 21.0, 20.0, 19.0, 18.0, 17.0, 16.0, 15.0, 14.0, 13.0, 12.0, 11.0, 10.0, 9.0, 8.0, 7.0, 6.0, 5.0, 4.0, 3.0, 2.0, 1.0, 1.3086999654769897, 1.1181999444961548, 1.1181999444961548, 1.1181999444961548, 1.1181999444961548, 1.1181999444961548, 1.1181999444961548, 1.1181999444961548, 1.1181999444961548, 1.1181999444961548, 1.1181999444961548, 1.1181999444961548, 1.1181999444961548, 1.1181999444961548, 1.1181999444961548, 1.1181999444961548, 1.1181999444961548, 1.1181999444961548, 1.1181999444961548, 1.1181999444961548, 1.1181999444961548, 1.1181999444961548, 1.1181999444961548, 1.1181999444961548, 1.1181999444961548, 1.1181999444961548, 1.1181999444961548, 1.1181999444961548, 1.1181999444961548, 1.1181999444961548, 0.8565000295639038, 0.046300001442432404, 0.786899983882904, 0.7515000104904175, 0.12430000305175781, 0.6664999723434448, 0.6739000082015991, 0.6739000082015991, 0.6739000082015991, 0.673799991607666, 0.7247999906539917, 0.6735000014305115, 0.6735000014305115, 0.9426000118255615, 0.9286999702453613, 0.9286999702453613, 0.928600013256073, 0.928600013256073, 0.928600013256073, 0.928600013256073, 0.928600013256073, 0.928600013256073, 0.8561999797821045, 0.8271999955177307, 0.755299985408783, 0.7552000284194946, 0.7552000284194946, 0.7552000284194946, 0.7552000284194946, 0.7552000284194946, 0.7552000284194946, 0.7552000284194946, 0.7552000284194946, 0.7552000284194946, 0.7552000284194946, 0.7552000284194946, 0.7552000284194946, 0.7552000284194946, 0.7552000284194946, 0.7552000284194946, 0.7552000284194946, 0.7552000284194946, 0.7552000284194946, 0.7552000284194946, 0.5709999799728394, 0.6694999933242798, 0.65420001745224, 0.6337000131607056, 0.6337000131607056, 0.6335999965667725, 0.0357000008225441, 0.5077000260353088, 0.4345000088214874, 0.42309999465942383, 0.4050000011920929, 0.26759999990463257, 0.219200000166893, 0.17110000550746918, 0.09589999914169312, 0.0617000013589859, 0.01860000006854534, 0.3305000066757202, 0.06939999759197235, 1.5907000303268433, 1.5907000303268433, 1.4264999628067017, 1.38919997215271, 1.38919997215271, 1.38919997215271, 1.38919997215271, 1.38919997215271, 1.38919997215271, 1.38919997215271, 1.38919997215271, 1.38919997215271, 1.38919997215271, 1.38919997215271, 1.38919997215271, 1.38919997215271, 1.38919997215271, 1.38919997215271, 1.38919997215271, 1.38919997215271, 1.38919997215271, 1.38919997215271, 1.38919997215271, 1.38919997215271, 1.38919997215271, 1.38919997215271, 1.38919997215271, 1.38919997215271, 1.38919997215271, 1.38919997215271, 1.38919997215271, 1.2646000385284424, -0.2053000032901764, 0.8144999742507935, 0.7473999857902527, 0.656499981880188, -0.6614999771118164, 0.9347000122070312, 0.6161999702453613, 0.9343000054359436, 0.9262999892234802, 0.9639000296592712, 0.933899998664856, 0.3741999864578247, 0.03590000048279762, 0.41769999265670776, 0.6146000027656555, 0.925000011920929, 0.925000011920929, 0.9248999953269958, 0.37790000438690186, 0.9322999715805054, 0.9241999983787537, 0.9556999802589417, 0.9556999802589417, 0.9556999802589417, 0.9556999802589417, 0.9556000232696533, 0.9555000066757202, 0.8841000199317932, 0.8302000164985657, 0.7968999743461609, 0.7788000106811523, 0.7788000106811523, 0.7788000106811523, 0.7788000106811523, 0.7788000106811523, 0.7788000106811523, 0.7788000106811523, 0.7788000106811523, 0.7788000106811523, 0.7788000106811523, 0.7788000106811523, 0.7788000106811523, 0.7788000106811523, 0.7788000106811523, 0.7788000106811523, 0.7788000106811523, 0.7788000106811523, 0.7788000106811523, 0.7788000106811523, 0.7788000106811523, 0.7788000106811523, 0.7696999907493591, 0.7232000231742859, 0.6776999831199646, 0.6068000197410583, 0.13830000162124634, 0.6509000062942505, 0.4514999985694885, 0.4401000142097473, 0.41760000586509705, 0.09679999947547913, 0.20919999480247498, -0.5458999872207642, 0.10809999704360962, -0.3492000102996826, 0.3424000144004822, 0.3422999978065491, 0.34209999442100525, 0.0812000036239624, 2.5271999835968018, 2.240999937057495, 2.1059999465942383, 1.7007999420166016, 1.370300054550171, 1.083400011062622, 0.8694000244140625, 0.7778000235557556, 0.7479000091552734, 0.2321999967098236, 0.2321999967098236, 0.2321999967098236, 0.2321999967098236, 0.2321999967098236, 0.2321999967098236, 0.2321999967098236, 0.2320999950170517, 0.2320999950170517, 0.2320999950170517, 0.2320999950170517, 0.2320999950170517, 0.2320999950170517, 0.2320999950170517, 0.2320999950170517, 0.2320999950170517, 0.2320999950170517, 0.2320999950170517, 0.2320999950170517, 0.2320999950170517, 0.2320999950170517, 0.21570000052452087, -0.6287999749183655, -1.4465999603271484, 0.1468999981880188, 0.15729999542236328, 0.15700000524520874, 0.156700000166893, 0.15639999508857727, -1.1188000440597534, -0.9950000047683716, -0.9472000002861023, -0.583299994468689, -0.24449999630451202, -0.9944999814033508, 0.15479999780654907, -0.7962999939918518, -0.7918999791145325, -0.22450000047683716, -0.8084999918937683, -0.542900025844574, 0.1987999975681305], \"logprob\": [30.0, 29.0, 28.0, 27.0, 26.0, 25.0, 24.0, 23.0, 22.0, 21.0, 20.0, 19.0, 18.0, 17.0, 16.0, 15.0, 14.0, 13.0, 12.0, 11.0, 10.0, 9.0, 8.0, 7.0, 6.0, 5.0, 4.0, 3.0, 2.0, 1.0, -4.453400135040283, -5.059500217437744, -5.059500217437744, -5.059500217437744, -5.059500217437744, -5.059500217437744, -5.059500217437744, -5.059500217437744, -5.059500217437744, -5.059500217437744, -5.059500217437744, -5.059500217437744, -5.059500217437744, -5.059500217437744, -5.059500217437744, -5.059500217437744, -5.059500217437744, -5.059500217437744, -5.059500217437744, -5.059500217437744, -5.059500217437744, -5.059500217437744, -5.059500217437744, -5.059500217437744, -5.059500217437744, -5.059500217437744, -5.059500217437744, -5.059500217437744, -5.059500217437744, -5.059500217437744, -4.077499866485596, -2.097599983215332, -4.451700210571289, -4.452300071716309, -5.05810022354126, -5.058599948883057, -5.058899879455566, -5.058899879455566, -5.059000015258789, -5.059000015258789, -5.059199810028076, -5.059299945831299, -5.059299945831299, -4.113999843597412, -4.7606000900268555, -4.7606000900268555, -4.7606000900268555, -4.7606000900268555, -4.7606000900268555, -4.7606000900268555, -4.7606000900268555, -4.7606000900268555, -2.7028000354766846, -3.57450008392334, -5.366799831390381, -5.366799831390381, -5.366799831390381, -5.366799831390381, -5.366799831390381, -5.366799831390381, -5.366799831390381, -5.366799831390381, -5.366799831390381, -5.366799831390381, -5.366799831390381, -5.366799831390381, -5.366799831390381, -5.366799831390381, -5.366799831390381, -5.366799831390381, -5.366799831390381, -5.366799831390381, -5.366799831390381, -5.366799831390381, -3.9000000953674316, -4.760499954223633, -4.760300159454346, -4.7600998878479, -4.7600998878479, -4.7600998878479, -2.108099937438965, -4.760700225830078, -4.760300159454346, -4.759399890899658, -4.760900020599365, -4.76140022277832, -4.76140022277832, -4.762899875640869, -4.7606000900268555, -4.762499809265137, -4.762700080871582, -5.366199970245361, -5.366499900817871, -4.21589994430542, -4.21589994430542, -3.35479998588562, -4.822000026702881, -4.822000026702881, -4.822000026702881, -4.822000026702881, -4.822000026702881, -4.822000026702881, -4.822000026702881, -4.822000026702881, -4.822000026702881, -4.822000026702881, -4.822000026702881, -4.822000026702881, -4.822000026702881, -4.822000026702881, -4.822000026702881, -4.822000026702881, -4.822000026702881, -4.822000026702881, -4.822000026702881, -4.822000026702881, -4.822000026702881, -4.822000026702881, -4.822000026702881, -4.822000026702881, -4.822000026702881, -4.822000026702881, -4.822000026702881, -4.822000026702881, -4.215199947357178, -2.349100112915039, -4.2144999504089355, -4.2133002281188965, -4.215400218963623, -4.2204999923706055, -4.8196001052856445, -4.819699764251709, -4.819900035858154, -4.820099830627441, -4.820199966430664, -4.820300102233887, -4.8206000328063965, -4.820700168609619, -4.820899963378906, -4.821199893951416, -4.821300029754639, -4.821300029754639, -4.821400165557861, -4.821400165557861, -4.821899890899658, -4.822000026702881, -4.748600006103516, -4.748600006103516, -4.748600006103516, -4.748600006103516, -4.748700141906738, -4.748799800872803, -4.100100040435791, -4.373600006103516, -4.3734002113342285, -5.354700088500977, -5.354700088500977, -5.354700088500977, -5.354700088500977, -5.354700088500977, -5.354700088500977, -5.354700088500977, -5.354700088500977, -5.354700088500977, -5.354700088500977, -5.354700088500977, -5.354700088500977, -5.354700088500977, -5.354700088500977, -5.354700088500977, -5.354700088500977, -5.354700088500977, -5.354700088500977, -5.354700088500977, -5.354700088500977, -5.354700088500977, -4.102200031280518, -4.10099983215332, -4.748199939727783, -4.373799800872803, -2.005500078201294, -4.7484002113342285, -4.747799873352051, -4.746799945831299, -4.748300075531006, -4.374199867248535, -4.751399993896484, -4.105000019073486, -4.7484002113342285, -4.750899791717529, -5.354400157928467, -5.354499816894531, -5.354700088500977, -5.354700088500977, -3.581199884414673, -4.187399864196777, -3.5762999057769775, -4.1855998039245605, -4.184199810028076, -4.184899806976318, -4.187300205230713, -4.1828999519348145, -4.186100006103516, -5.979000091552734, -5.979000091552734, -5.979000091552734, -5.979000091552734, -5.979000091552734, -5.979000091552734, -5.979000091552734, -5.979000091552734, -5.979100227355957, -5.979100227355957, -5.979100227355957, -5.979100227355957, -5.979100227355957, -5.979100227355957, -5.979100227355957, -5.979100227355957, -5.979100227355957, -5.979100227355957, -5.979100227355957, -5.979100227355957, -5.979100227355957, -4.186100006103516, -4.18779993057251, -3.5905001163482666, -5.975299835205078, -5.97629976272583, -5.9766998291015625, -5.9770002365112305, -5.977200031280518, -5.975399971008301, -5.975500106811523, -5.976200103759766, -5.977099895477295, -5.97730016708374, -5.978700160980225, -5.978799819946289, -5.978799819946289, -5.978799819946289, -5.978799819946289, -5.978799819946289, -5.978799819946289, -5.978799819946289]}, \"token.table\": {\"Topic\": [3, 1, 2, 3, 4, 5, 3, 4, 2, 4, 1, 3, 4, 4, 2, 1, 3, 4, 4, 4, 2, 4, 2, 1, 3, 4, 2, 4, 2, 4, 4, 2, 4, 2, 4, 2, 3, 4, 1, 1, 2, 2, 3, 4, 2, 4, 2, 4, 2, 3, 4, 1, 1, 4, 1, 3, 4, 4, 1, 3, 1, 2, 2, 3, 4, 1, 2, 3, 2, 2, 3, 3, 2, 3, 1, 4, 3, 2, 4, 2, 2, 2, 3, 2, 3, 4, 2, 4, 4, 1, 3, 1, 4, 1, 2, 3, 4, 1, 3, 1, 2, 4, 1, 4, 3, 1, 4, 3, 4, 2, 2, 4, 3, 1, 1, 3, 3, 1, 4, 1, 2, 4, 3, 3, 4, 4, 3, 2, 4, 4, 2, 3, 3, 2, 3, 3, 2, 1, 2, 4, 2, 4, 3, 1, 3, 1, 2, 3, 4, 2, 1, 1, 1, 3, 3, 2, 4, 1, 4, 1, 4, 4, 3, 3, 2, 5, 3, 2, 4, 4, 2, 2, 1, 3, 4, 2, 4, 3, 4, 4, 2, 3, 4, 1, 4, 4, 3, 2, 3, 1, 1, 4, 2, 4, 4, 2, 3, 4, 2, 3, 4, 4, 1, 2, 1, 4, 2, 3, 1, 2, 4, 2, 4, 2, 4, 3, 1, 3, 1, 1, 2, 4, 1, 2, 3, 4, 5, 3, 2, 3, 2, 3, 4, 1, 1, 3, 4, 2, 3, 2, 2, 2, 1, 3, 4, 1, 2, 4, 1, 1, 2, 4, 2, 1, 3, 2, 3, 1, 2, 4], \"Freq\": [0.8195691108703613, 0.210500106215477, 0.32276681065559387, 0.12630006670951843, 0.33680015802383423, 0.01403333991765976, 0.8195644021034241, 0.7583389282226562, 0.7238021492958069, 0.36190107464790344, 0.23468534648418427, 0.23468534648418427, 0.46937069296836853, 0.9873164892196655, 0.7496449947357178, 0.7925383448600769, 0.5189523696899414, 0.5189523696899414, 0.7584106922149658, 0.5923186540603638, 0.4899682402610779, 0.4899682402610779, 0.7497959136962891, 0.7925382256507874, 0.819570779800415, 0.7583393454551697, 0.7496457695960999, 0.7584322690963745, 0.48996737599372864, 0.48996737599372864, 0.9873162508010864, 0.749646008014679, 0.758445143699646, 0.9726305603981018, 0.7583392262458801, 0.37747129797935486, 0.37747129797935486, 0.37747129797935486, 0.7925383448600769, 0.504033088684082, 0.504033088684082, 0.3774508237838745, 0.3774508237838745, 0.3774508237838745, 0.6709840893745422, 0.2683936357498169, 0.7496460676193237, 0.9873190522193909, 0.2979383170604706, 0.2979383170604706, 0.5958766341209412, 0.7925381064414978, 0.5079363584518433, 0.5079363584518433, 0.7925381064414978, 0.81956946849823, 0.7583397030830383, 0.7583385705947876, 0.7925379872322083, 0.8195689916610718, 0.7925377488136292, 0.9726304411888123, 0.5931827425956726, 0.2965913712978363, 0.2965913712978363, 0.7925383448600769, 0.39228975772857666, 0.588434636592865, 0.7749586701393127, 0.5148816704750061, 0.5148816704750061, 0.8195697069168091, 0.7496456503868103, 0.8195693492889404, 0.7925384640693665, 0.758338987827301, 0.8195643424987793, 0.7237687706947327, 0.36188438534736633, 0.7496459484100342, 0.7496461868286133, 0.5148118138313293, 0.5148118138313293, 0.6933231353759766, 0.05777692794799805, 0.17333078384399414, 0.638447105884552, 0.319223552942276, 0.7583393454551697, 0.7925381064414978, 0.81956946849823, 0.37371283769607544, 0.7474256753921509, 0.4570212662220001, 0.4570212662220001, 0.5189775824546814, 0.5189775824546814, 0.7925383448600769, 0.81956946849823, 0.7925378084182739, 0.4899623394012451, 0.4899623394012451, 0.5079652070999146, 0.5079652070999146, 0.8195697069168091, 0.7925381064414978, 0.7583385109901428, 0.5189635753631592, 0.5189635753631592, 0.749646008014679, 0.9726331830024719, 0.7583394050598145, 0.8195691108703613, 0.792538046836853, 0.7925384640693665, 0.8195691108703613, 0.8195691108703613, 0.5079375505447388, 0.5079375505447388, 0.7925378084182739, 0.5763171315193176, 0.5763171315193176, 0.5468499064445496, 0.8195698261260986, 0.9873244762420654, 0.7583389282226562, 0.8195690512657166, 0.7496460676193237, 0.758338987827301, 0.987330973148346, 0.514832615852356, 0.514832615852356, 0.8195630311965942, 0.7496460676193237, 0.8195699453353882, 0.8195689916610718, 0.7496458292007446, 0.7925381064414978, 0.3639009892940521, 0.7278019785881042, 0.7496460676193237, 0.7583392262458801, 0.8195698261260986, 0.792538046836853, 0.8195690512657166, 0.21147523820400238, 0.42295047640800476, 0.21147523820400238, 0.42295047640800476, 0.7496460676193237, 0.7925378084182739, 0.7925376892089844, 0.534679114818573, 0.534679114818573, 0.8195689916610718, 0.47880834341049194, 0.47880834341049194, 0.5079391002655029, 0.5079391002655029, 0.5079297423362732, 0.5079297423362732, 0.7583385705947876, 0.8195697069168091, 0.8195689916610718, 0.48291775584220886, 0.48291775584220886, 0.8195690512657166, 0.4899623990058899, 0.4899623990058899, 0.7583385705947876, 0.7496460676193237, 0.7496461868286133, 0.3098788261413574, 0.3098788261413574, 0.3098788261413574, 0.9726319313049316, 0.758339524269104, 0.8195692300796509, 0.7583392262458801, 0.9873162508010864, 0.5752989053726196, 0.1438247263431549, 0.2876494526863098, 0.792538046836853, 0.7583392858505249, 0.7584207653999329, 0.81956946849823, 0.5148364305496216, 0.5148364305496216, 0.7925383448600769, 0.7925378084182739, 0.7583396434783936, 0.7496458888053894, 0.7583392262458801, 0.7583392858505249, 0.9726295471191406, 0.21474707126617432, 0.644241213798523, 0.7496456503868103, 0.39439451694488525, 0.39439451694488525, 0.7583392858505249, 0.3694882094860077, 0.7389764189720154, 0.5079311728477478, 0.5079311728477478, 0.9726300239562988, 0.8195689916610718, 0.7925382256507874, 0.24027426540851593, 0.720822811126709, 0.2894364595413208, 0.5788729190826416, 0.7237685322761536, 0.3618842661380768, 0.8195688724517822, 0.7925383448600769, 0.8195689916610718, 0.7925451993942261, 0.2993040680885315, 0.2993040680885315, 0.2993040680885315, 0.42497318983078003, 0.42497318983078003, 0.29928410053253174, 0.5985682010650635, 0.7395017743110657, 0.5468499660491943, 0.5148377418518066, 0.5148377418518066, 0.5025407075881958, 0.2512703537940979, 0.2512703537940979, 0.7925382852554321, 0.7925378084182739, 0.5189028978347778, 0.5189028978347778, 0.7496458888053894, 0.8195697069168091, 0.9726337194442749, 0.7496460676193237, 0.97263103723526, 0.5347092747688293, 0.5347092747688293, 0.7583536505699158, 0.7925379872322083, 0.40947532653808594, 0.6142129898071289, 0.5230438709259033, 0.294262558221817, 0.294262558221817, 0.588525116443634, 0.7496456503868103, 0.7925377488136292, 0.8195689916610718, 0.7505252957344055, 0.37526264786720276, 0.29296693205833435, 0.5859338641166687, 0.29296693205833435], \"Term\": [\"50.000\", \"SCREEN_NAME\", \"SCREEN_NAME\", \"SCREEN_NAME\", \"SCREEN_NAME\", \"SCREEN_NAME\", \"absolutely\", \"accts\", \"agent\", \"agent\", \"airline\", \"airline\", \"airline\", \"airport\", \"allow\", \"altitude\", \"always\", \"always\", \"amp;sock\", \"another\", \"answer\", \"answer\", \"anyone\", \"anyonethere\", \"arrive\", \"assistance\", \"atlanta\", \"attendant\", \"automate\", \"automate\", \"awesome\", \"birth\", \"boarding\", \"book\", \"branding\", \"bring\", \"bring\", \"bring\", \"business\", \"call\", \"call\", \"calling\", \"calling\", \"calling\", \"cancel\", \"cancel\", \"cause\", \"charge\", \"check\", \"check\", \"check\", \"chrome\", \"claim\", \"claim\", \"computer\", \"concourse\", \"contact\", \"costumer\", \"could\", \"courtesy\", \"cream\", \"currently\", \"customer\", \"customer\", \"customer\", \"daily\", \"delay\", \"delay\", \"denver\", \"diego\", \"diego\", \"disgraceful\", \"display\", \"double\", \"dozens\", \"error\", \"every\", \"experience\", \"experience\", \"fail\", \"failure\", \"finally\", \"finally\", \"flight\", \"flight\", \"flight\", \"flightled\", \"flightled\", \"flightled.can't\", \"floor\", \"fly\", \"flyer\", \"flyer\", \"flying\", \"flying\", \"follow\", \"follow\", \"gain\", \"garbage\", \"gently\", \"getting\", \"getting\", \"gross\", \"gross\", \"guess\", \"helpmeplease\", \"honest\", \"hope\", \"hope\", \"hotterandlongerthanhell\", \"hours\", \"improve\", \"incompetent\", \"internet\", \"investor\", \"jetblue\", \"jfk!even\", \"land\", \"land\", \"landing\", \"learn\", \"learn\", \"least\", \"lovesouthwestair\", \"luggage\", \"machine\", \"matter-\", \"meeting\", \"merge\", \"message\", \"mile\", \"mile\", \"minute\", \"miss\", \"nashville\", \"nothing\", \"offer\", \"ohare\", \"online\", \"online\", \"opening\", \"option\", \"order\", \"overnight\", \"passenger\", \"phone\", \"phone\", \"phone\", \"phone\", \"photo\", \"pilot\", \"place\", \"plane\", \"plane\", \"plastic\", \"please\", \"please\", \"program\", \"program\", \"provide\", \"provide\", \"providence\", \"puerto\", \"queue\", \"rebook\", \"rebook\", \"rebooked\", \"recent\", \"recent\", \"recommend\", \"regret\", \"report\", \"reservation\", \"reservation\", \"reservation\", \"respect\", \"retrieve\", \"rndtrp\", \"savings\", \"schedule\", \"service\", \"service\", \"service\", \"several\", \"short\", \"show\", \"shuttle\", \"sitting\", \"sitting\", \"skywest\", \"smooth\", \"something\", \"specific\", \"spending\", \"staff\", \"stick\", \"still\", \"still\", \"storm\", \"suck\", \"suck\", \"suggestion\", \"system\", \"system\", \"taking\", \"taking\", \"tarmac\", \"tears\", \"tell\", \"thank\", \"thank\", \"thanks\", \"thanks\", \"thing\", \"thing\", \"things\", \"think\", \"though\", \"throne\", \"ticket\", \"ticket\", \"ticket\", \"times\", \"times\", \"today\", \"today\", \"tomorrow\", \"travel\", \"treat\", \"treat\", \"try\", \"try\", \"try\", \"turbulence\", \"ua475\", \"unacceptable\", \"unacceptable\", \"uncomfortable\", \"unfortunately\", \"update\", \"usair\", \"useless\", \"vega\", \"vega\", \"volume\", \"voucher\", \"waiting\", \"waiting\", \"want\", \"weather\", \"weather\", \"weather\", \"weekend\", \"whip\", \"wings\", \"worst\", \"worst\", \"would\", \"would\", \"would\"]}, \"R\": 30, \"lambda.step\": 0.01, \"plot.opts\": {\"xlab\": \"PC1\", \"ylab\": \"PC2\"}, \"topic.order\": [1, 2, 3, 4, 5]};\n",
       "\n",
       "function LDAvis_load_lib(url, callback){\n",
       "  var s = document.createElement('script');\n",
       "  s.src = url;\n",
       "  s.async = true;\n",
       "  s.onreadystatechange = s.onload = callback;\n",
       "  s.onerror = function(){console.warn(\"failed to load library \" + url);};\n",
       "  document.getElementsByTagName(\"head\")[0].appendChild(s);\n",
       "}\n",
       "\n",
       "if(typeof(LDAvis) !== \"undefined\"){\n",
       "   // already loaded: just create the visualization\n",
       "   !function(LDAvis){\n",
       "       new LDAvis(\"#\" + \"ldavis_el170571399594970282563698256046\", ldavis_el170571399594970282563698256046_data);\n",
       "   }(LDAvis);\n",
       "}else if(typeof define === \"function\" && define.amd){\n",
       "   // require.js is available: use it to load d3/LDAvis\n",
       "   require.config({paths: {d3: \"https://cdnjs.cloudflare.com/ajax/libs/d3/3.5.5/d3.min\"}});\n",
       "   require([\"d3\"], function(d3){\n",
       "      window.d3 = d3;\n",
       "      LDAvis_load_lib(\"https://cdn.rawgit.com/bmabey/pyLDAvis/files/ldavis.v1.0.0.js\", function(){\n",
       "        new LDAvis(\"#\" + \"ldavis_el170571399594970282563698256046\", ldavis_el170571399594970282563698256046_data);\n",
       "      });\n",
       "    });\n",
       "}else{\n",
       "    // require.js not available: dynamically load d3 & LDAvis\n",
       "    LDAvis_load_lib(\"https://cdnjs.cloudflare.com/ajax/libs/d3/3.5.5/d3.min.js\", function(){\n",
       "         LDAvis_load_lib(\"https://cdn.rawgit.com/bmabey/pyLDAvis/files/ldavis.v1.0.0.js\", function(){\n",
       "                 new LDAvis(\"#\" + \"ldavis_el170571399594970282563698256046\", ldavis_el170571399594970282563698256046_data);\n",
       "            })\n",
       "         });\n",
       "}\n",
       "</script>"
      ],
      "text/plain": [
       "<IPython.core.display.HTML object>"
      ]
     },
     "execution_count": 22,
     "metadata": {},
     "output_type": "execute_result"
    }
   ],
   "source": [
    "dictionary = gensim.corpora.Dictionary.load('dictionary.gensim')\n",
    "corpus = pickle.load(open('corpus.pkl', 'rb'))\n",
    "lda = gensim.models.ldamodel.LdaModel.load('model5.gensim')\n",
    "\n",
    "import pyLDAvis.gensim\n",
    "lda_display = pyLDAvis.gensim.prepare(lda, corpus, dictionary, sort_topics=False)\n",
    "pyLDAvis.display(lda_display)"
   ]
  },
  {
   "cell_type": "code",
   "execution_count": null,
   "metadata": {
    "collapsed": true
   },
   "outputs": [],
   "source": []
  },
  {
   "cell_type": "code",
   "execution_count": null,
   "metadata": {
    "collapsed": true
   },
   "outputs": [],
   "source": []
  }
 ],
 "metadata": {
  "kernelspec": {
   "display_name": "Python 3",
   "language": "python",
   "name": "python3"
  },
  "language_info": {
   "codemirror_mode": {
    "name": "ipython",
    "version": 3
   },
   "file_extension": ".py",
   "mimetype": "text/x-python",
   "name": "python",
   "nbconvert_exporter": "python",
   "pygments_lexer": "ipython3",
   "version": "3.6.1"
  }
 },
 "nbformat": 4,
 "nbformat_minor": 2
}
